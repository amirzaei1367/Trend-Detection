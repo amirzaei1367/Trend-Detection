{
 "cells": [
  {
   "cell_type": "code",
   "execution_count": 1,
   "metadata": {
    "papermill": {
     "duration": 0.014463,
     "end_time": "2019-05-16T22:01:22.781168",
     "exception": false,
     "start_time": "2019-05-16T22:01:22.766705",
     "status": "completed"
    },
    "tags": [
     "injected-parameters"
    ]
   },
   "outputs": [],
   "source": [
    "# Parameters\n",
    "num_cores = 27\n",
    "mem = 670000\n",
    "start = 50\n",
    "stop = 101\n",
    "step = 2\n",
    "LDA_iteration_threshold = 1000\n",
    "config = \"configs.config_Reddit\"\n"
   ]
  },
  {
   "cell_type": "raw",
   "metadata": {
    "papermill": {
     "duration": 0.006537,
     "end_time": "2019-05-16T22:01:22.794756",
     "exception": false,
     "start_time": "2019-05-16T22:01:22.788219",
     "status": "completed"
    },
    "tags": []
   },
   "source": [
    "# Two things you should set before running this:\n",
    "\n",
    "# 1- Set Xmx of JVM for Mallet batch file according to your dataset.\n",
    "# 2- Number of workers for your LDA"
   ]
  },
  {
   "cell_type": "code",
   "execution_count": 2,
   "metadata": {
    "ExecuteTime": {
     "end_time": "2019-05-16T21:49:27.896367Z",
     "start_time": "2019-05-16T21:49:27.892166Z"
    },
    "code_folding": [
     0
    ],
    "papermill": {
     "duration": 0.011889,
     "end_time": "2019-05-16T22:01:22.813149",
     "exception": false,
     "start_time": "2019-05-16T22:01:22.801260",
     "status": "completed"
    },
    "tags": []
   },
   "outputs": [],
   "source": [
    "#!/usr/bin/env python\n",
    "# coding: utf-8\n",
    "\n",
    "if 'config' not in locals():\n",
    "    config = 'configs.config_SE_test_local'\n",
    "#     config = 'configs.config_Reddit_test_local'"
   ]
  },
  {
   "cell_type": "code",
   "execution_count": 3,
   "metadata": {
    "ExecuteTime": {
     "end_time": "2019-05-16T21:49:34.198511Z",
     "start_time": "2019-05-16T21:49:28.329318Z"
    },
    "code_folding": [
     0
    ],
    "papermill": {
     "duration": 10.346508,
     "end_time": "2019-05-16T22:01:33.166891",
     "exception": false,
     "start_time": "2019-05-16T22:01:22.820383",
     "status": "completed"
    },
    "tags": []
   },
   "outputs": [
    {
     "name": "stdout",
     "output_type": "stream",
     "text": [
      "config file is set to configs.config_Reddit\n",
      "num_cores is set to 27\n",
      "mem is set to 670000\n",
      "start is set to 50\n",
      "stop is set to 101\n",
      "step is set to 2\n",
      "LDA_iteration_threshold is set to 1000\n"
     ]
    }
   ],
   "source": [
    "### initialization ###\n",
    "\n",
    "from _imports import *\n",
    "# from _utils import *\n",
    "\n",
    "print('config file is set to {}'.format(config))\n",
    "\n",
    "util=importlib.import_module('_utils')\n",
    "importlib.reload(util)\n",
    "\n",
    "c=importlib.import_module(config)\n",
    "importlib.reload(c)\n",
    "\n",
    "get_ipython().run_line_magic('matplotlib', 'inline')\n",
    "\n",
    "# param_setup(sys.argv[1:], c)\n",
    "util.param_setup_ipython(globals(), c)"
   ]
  },
  {
   "cell_type": "code",
   "execution_count": 4,
   "metadata": {
    "ExecuteTime": {
     "end_time": "2019-05-16T21:49:37.089581Z",
     "start_time": "2019-05-16T21:49:34.201360Z"
    },
    "code_folding": [
     0
    ],
    "papermill": {
     "duration": 52.71498,
     "end_time": "2019-05-16T22:02:25.889165",
     "exception": false,
     "start_time": "2019-05-16T22:01:33.174185",
     "status": "completed"
    },
    "scrolled": false,
    "tags": []
   },
   "outputs": [
    {
     "name": "stdout",
     "output_type": "stream",
     "text": [
      "Iteration threshold set for LDA = 1000\n"
     ]
    },
    {
     "name": "stdout",
     "output_type": "stream",
     "text": [
      "(2225657, 8)\n"
     ]
    },
    {
     "data": {
      "text/html": [
       "<table border=\"1\" class=\"dataframe\">\n",
       "  <thead>\n",
       "    <tr style=\"text-align: right;\">\n",
       "      <th></th>\n",
       "      <th>id</th>\n",
       "      <th>date</th>\n",
       "      <th>category</th>\n",
       "      <th>all_text</th>\n",
       "      <th>group</th>\n",
       "      <th>txt_orig</th>\n",
       "      <th>txt_lemmatized</th>\n",
       "      <th>keywords</th>\n",
       "    </tr>\n",
       "  </thead>\n",
       "  <tbody>\n",
       "    <tr>\n",
       "      <th>0</th>\n",
       "      <td>2qzibe</td>\n",
       "      <td>1420090180</td>\n",
       "      <td>MachineLearning</td>\n",
       "      <td>Measuring human performance on standard image ...</td>\n",
       "      <td>submissions</td>\n",
       "      <td>Measuring human performance on standard image ...</td>\n",
       "      <td>measur, human, zzzltwolfivelonelzzz, standard,...</td>\n",
       "      <td>measur, human, perform, standard, imag classif...</td>\n",
       "    </tr>\n",
       "    <tr>\n",
       "      <th>1</th>\n",
       "      <td>2qzv35</td>\n",
       "      <td>1420102342</td>\n",
       "      <td>dataisbeautiful</td>\n",
       "      <td>European economy guide: Taking Europe’s pulse</td>\n",
       "      <td>submissions</td>\n",
       "      <td>European economy guide: Taking Europe’s pulse</td>\n",
       "      <td>european, economi, guid, take, europ, pul</td>\n",
       "      <td>european, economi, guid, take, europ, pul</td>\n",
       "    </tr>\n",
       "    <tr>\n",
       "      <th>2</th>\n",
       "      <td>2qzzaa</td>\n",
       "      <td>1420107805</td>\n",
       "      <td>dataisbeautiful</td>\n",
       "      <td>Popularity of visual forms in DataIsBeautiful ...</td>\n",
       "      <td>submissions</td>\n",
       "      <td>Popularity of visual forms in DataIsBeautiful ...</td>\n",
       "      <td>popular, zzzlthreelzerolfourlzzz, form, datais...</td>\n",
       "      <td>popular, visual, form, dataisbeauti, base, sam...</td>\n",
       "    </tr>\n",
       "    <tr>\n",
       "      <th>3</th>\n",
       "      <td>2r048c</td>\n",
       "      <td>1420114575</td>\n",
       "      <td>dataisbeautiful</td>\n",
       "      <td>JOE GROOMING - DAILY SHAMPOO ~ best shampoo fo...</td>\n",
       "      <td>submissions</td>\n",
       "      <td>JOE GROOMING - DAILY SHAMPOO ~ best shampoo fo...</td>\n",
       "      <td>joe, groom, daili, shampoo, good, shampoo, oil...</td>\n",
       "      <td>joe, groom, daili, shampoo, good, shampoo, oil...</td>\n",
       "    </tr>\n",
       "    <tr>\n",
       "      <th>4</th>\n",
       "      <td>2r0e7b</td>\n",
       "      <td>1420125946</td>\n",
       "      <td>dataisbeautiful</td>\n",
       "      <td>Los Angeles Traffic Accident Rate in Rainy vs ...</td>\n",
       "      <td>submissions</td>\n",
       "      <td>Los Angeles Traffic Accident Rate in Rainy vs ...</td>\n",
       "      <td>trafficaccid, rate, raini, dri, weather</td>\n",
       "      <td>trafficaccid, rate, raini, dri, weather</td>\n",
       "    </tr>\n",
       "  </tbody>\n",
       "</table>"
      ],
      "text/plain": [
       "<IPython.core.display.HTML object>"
      ]
     },
     "metadata": {},
     "output_type": "display_data"
    },
    {
     "name": "stdout",
     "output_type": "stream",
     "text": [
      "parallel: 27 partitions with 27 cores for para_lemmatize_df\n"
     ]
    }
   ],
   "source": [
    "### final lemmatized files loading ###\n",
    "\n",
    "print('Iteration threshold set for LDA = {}'.format(c.LDA_iteration_threshold))\n",
    "\n",
    "df_text = pd.read_csv('{}{}_4_text_lemmatized_decoded.csv'.format(c.directory['save'], c.project_name))\n",
    "pprint(df_text.shape)\n",
    "util.display_df(df_text.head())\n",
    "\n",
    "def para_lemmatize(text):\n",
    "    return [x.strip() for x in text.split(',')]\n",
    "\n",
    "def para_lemmatize_df(df):\n",
    "    return df.apply(para_lemmatize)\n",
    "\n",
    "# c.init_parallel(True)\n",
    "# df_text['txt_lemmatized']=df_text['txt_lemmatized'].parallel_apply(para_lemmatize)\n",
    "df_text['txt_lemmatized']=util.parallelize_df(df_text['txt_lemmatized'], para_lemmatize_df, c)"
   ]
  },
  {
   "cell_type": "code",
   "execution_count": 5,
   "metadata": {
    "ExecuteTime": {
     "end_time": "2019-05-16T21:49:42.235464Z",
     "start_time": "2019-05-16T21:49:37.094424Z"
    },
    "code_folding": [
     0
    ],
    "papermill": {
     "duration": 98.587814,
     "end_time": "2019-05-16T22:04:04.487310",
     "exception": false,
     "start_time": "2019-05-16T22:02:25.899496",
     "status": "completed"
    },
    "tags": []
   },
   "outputs": [
    {
     "name": "stdout",
     "output_type": "stream",
     "text": [
      "parallel: 27 partitions with 27 cores for para_corpus_df\n"
     ]
    },
    {
     "name": "stdout",
     "output_type": "stream",
     "text": [
      "/scratch/hkarbasi/Mallet-master/bin/mallet\n"
     ]
    }
   ],
   "source": [
    "### preping LDA model ###\n",
    "\n",
    "# Create Dictionary\n",
    "data_lemmatized=df_text['txt_lemmatized']\n",
    "id2word = corpora.Dictionary(data_lemmatized)\n",
    "\n",
    "# Create Corpus & Term Document Frequency\n",
    "def para_corpus(text):\n",
    "    return id2word.doc2bow(text)\n",
    "\n",
    "def para_corpus_df(df):\n",
    "    return df.apply(para_corpus)\n",
    "\n",
    "corpus=util.parallelize_df(data_lemmatized, para_corpus_df, c)\n",
    "print(c.directory['mallet'])"
   ]
  },
  {
   "cell_type": "code",
   "execution_count": 6,
   "metadata": {
    "ExecuteTime": {
     "end_time": "2019-05-16T21:58:25.538466Z",
     "start_time": "2019-05-16T21:57:47.253661Z"
    },
    "code_folding": [
     55,
     57,
     60,
     62
    ],
    "papermill": {
     "duration": 17518.950292,
     "end_time": "2019-05-17T02:56:03.447984",
     "exception": false,
     "start_time": "2019-05-16T22:04:04.497692",
     "status": "completed"
    },
    "tags": []
   },
   "outputs": [
    {
     "name": "stdout",
     "output_type": "stream",
     "text": [
      "Creating 27 (daemon) workers and jobs in child.\n"
     ]
    },
    {
     "name": "stdout",
     "output_type": "stream",
     "text": [
      "parameters: topics=50, iteration=1000\n"
     ]
    },
    {
     "name": "stdout",
     "output_type": "stream",
     "text": [
      "parameters: topics=52, iteration=1000\n"
     ]
    },
    {
     "name": "stdout",
     "output_type": "stream",
     "text": [
      "parameters: topics=54, iteration=1000\n"
     ]
    },
    {
     "name": "stdout",
     "output_type": "stream",
     "text": [
      "parameters: topics=56, iteration=1000\n"
     ]
    },
    {
     "name": "stdout",
     "output_type": "stream",
     "text": [
      "parameters: topics=58, iteration=1000\n"
     ]
    },
    {
     "name": "stdout",
     "output_type": "stream",
     "text": [
      "parameters: topics=60, iteration=1000\n"
     ]
    },
    {
     "name": "stdout",
     "output_type": "stream",
     "text": [
      "parameters: topics=62, iteration=1000\n"
     ]
    },
    {
     "name": "stdout",
     "output_type": "stream",
     "text": [
      "parameters: topics=64, iteration=1000\n"
     ]
    },
    {
     "name": "stdout",
     "output_type": "stream",
     "text": [
      "parameters: topics=66, iteration=1000\n"
     ]
    },
    {
     "name": "stdout",
     "output_type": "stream",
     "text": [
      "parameters: topics=68, iteration=1000\n"
     ]
    },
    {
     "name": "stdout",
     "output_type": "stream",
     "text": [
      "parameters: topics=70, iteration=1000\n"
     ]
    },
    {
     "name": "stdout",
     "output_type": "stream",
     "text": [
      "parameters: topics=72, iteration=1000\n"
     ]
    },
    {
     "name": "stdout",
     "output_type": "stream",
     "text": [
      "parameters: topics=74, iteration=1000\n"
     ]
    },
    {
     "name": "stdout",
     "output_type": "stream",
     "text": [
      "parameters: topics=76, iteration=1000\n"
     ]
    },
    {
     "name": "stdout",
     "output_type": "stream",
     "text": [
      "parameters: topics=78, iteration=1000\n"
     ]
    },
    {
     "name": "stdout",
     "output_type": "stream",
     "text": [
      "parameters: topics=80, iteration=1000\n"
     ]
    },
    {
     "name": "stdout",
     "output_type": "stream",
     "text": [
      "parameters: topics=82, iteration=1000\n"
     ]
    },
    {
     "name": "stdout",
     "output_type": "stream",
     "text": [
      "parameters: topics=84, iteration=1000\n"
     ]
    },
    {
     "name": "stdout",
     "output_type": "stream",
     "text": [
      "parameters: topics=86, iteration=1000\n"
     ]
    },
    {
     "name": "stdout",
     "output_type": "stream",
     "text": [
      "parameters: topics=88, iteration=1000\n"
     ]
    },
    {
     "name": "stdout",
     "output_type": "stream",
     "text": [
      "parameters: topics=90, iteration=1000\n"
     ]
    },
    {
     "name": "stdout",
     "output_type": "stream",
     "text": [
      "parameters: topics=92, iteration=1000\n"
     ]
    },
    {
     "name": "stdout",
     "output_type": "stream",
     "text": [
      "parameters: topics=94, iteration=1000\n"
     ]
    },
    {
     "name": "stdout",
     "output_type": "stream",
     "text": [
      "parameters: topics=96, iteration=1000\n"
     ]
    },
    {
     "name": "stdout",
     "output_type": "stream",
     "text": [
      "parameters: topics=98, iteration=1000\n"
     ]
    },
    {
     "name": "stdout",
     "output_type": "stream",
     "text": [
      "parameters: topics=100, iteration=1000\n"
     ]
    },
    {
     "name": "stdout",
     "output_type": "stream",
     "text": [
      "Finished with model for topics 50\n"
     ]
    },
    {
     "name": "stdout",
     "output_type": "stream",
     "text": [
      "Finished with model for topics 52\n"
     ]
    },
    {
     "name": "stdout",
     "output_type": "stream",
     "text": [
      "Finished with model for topics 56\n"
     ]
    },
    {
     "name": "stdout",
     "output_type": "stream",
     "text": [
      "Finished with model for topics 54\n"
     ]
    },
    {
     "name": "stdout",
     "output_type": "stream",
     "text": [
      "Finished with model for topics 60\n"
     ]
    },
    {
     "name": "stdout",
     "output_type": "stream",
     "text": [
      "Finished with model for topics 58\n"
     ]
    },
    {
     "name": "stdout",
     "output_type": "stream",
     "text": [
      "Finished with model for topics 62\n"
     ]
    },
    {
     "name": "stdout",
     "output_type": "stream",
     "text": [
      "Finished with model for topics 66\n"
     ]
    },
    {
     "name": "stdout",
     "output_type": "stream",
     "text": [
      "Finished with model for topics 68\n"
     ]
    },
    {
     "name": "stdout",
     "output_type": "stream",
     "text": [
      "Finished with model for topics 64\n"
     ]
    },
    {
     "name": "stdout",
     "output_type": "stream",
     "text": [
      "Finished with model for topics 72\n"
     ]
    },
    {
     "name": "stdout",
     "output_type": "stream",
     "text": [
      "Finished with model for topics 70\n"
     ]
    },
    {
     "name": "stdout",
     "output_type": "stream",
     "text": [
      "Finished with model for topics 80\n"
     ]
    },
    {
     "name": "stdout",
     "output_type": "stream",
     "text": [
      "Finished with model for topics 84\n"
     ]
    },
    {
     "name": "stdout",
     "output_type": "stream",
     "text": [
      "Finished with model for topics 82\n"
     ]
    },
    {
     "name": "stdout",
     "output_type": "stream",
     "text": [
      "Finished with model for topics 78\n"
     ]
    },
    {
     "name": "stdout",
     "output_type": "stream",
     "text": [
      "Finished with model for topics 86\n"
     ]
    },
    {
     "name": "stdout",
     "output_type": "stream",
     "text": [
      "Finished with model for topics 74\n"
     ]
    },
    {
     "name": "stdout",
     "output_type": "stream",
     "text": [
      "Finished with model for topics 90\n"
     ]
    },
    {
     "name": "stdout",
     "output_type": "stream",
     "text": [
      "Finished with model for topics 100\n"
     ]
    },
    {
     "name": "stdout",
     "output_type": "stream",
     "text": [
      "Finished with model for topics 76\n"
     ]
    },
    {
     "name": "stdout",
     "output_type": "stream",
     "text": [
      "Finished with model for topics 88\n"
     ]
    },
    {
     "name": "stdout",
     "output_type": "stream",
     "text": [
      "Finished with model for topics 98\n"
     ]
    },
    {
     "name": "stdout",
     "output_type": "stream",
     "text": [
      "Finished with model for topics 92\n"
     ]
    },
    {
     "name": "stdout",
     "output_type": "stream",
     "text": [
      "Finished with model for topics 94\n"
     ]
    },
    {
     "name": "stdout",
     "output_type": "stream",
     "text": [
      "Finished with model for topics 96\n"
     ]
    }
   ],
   "source": [
    "### run LDA models with different numbers of topics + saving ###\n",
    "\n",
    "\n",
    "lock_write = Lock()\n",
    "filename='{}{}_5_coherence_LDA_{}_{}_{}_iter_{}.'.format(c.directory['save'],\n",
    "                                                         c.project_name,\n",
    "                                                         c.start,\n",
    "                                                         c.stop,\n",
    "                                                         c.step,\n",
    "                                                         c.LDA_iteration_threshold\n",
    "                                                        )\n",
    "\n",
    "def write_to_file(text):\n",
    "    with open (filename+'txt', 'a') as f:\n",
    "        f.write(text+'\\n')\n",
    "    \n",
    "def para_coherence(num_topics):\n",
    "    util.print_asynch('parameters: topics={}, iteration={}'.format(num_topics,\n",
    "                                                                   c.LDA_iteration_threshold,\n",
    "                                                                  ))\n",
    "    try:\n",
    "        os.makedirs('{}tmp/{}/'.format(c.directory['save'], num_topics))\n",
    "    except OSError as e:\n",
    "        if e.errno != errno.EEXIST:\n",
    "            raise Failed('Counld\\'nt create tmp folder!')\n",
    "        \n",
    "    model = gensim.models.wrappers.LdaMallet(c.directory['mallet'],\n",
    "                                             corpus=corpus, \n",
    "                                             num_topics=num_topics, \n",
    "                                             id2word=id2word,\n",
    "#                                              workers=c.num_cores//2 + 1,\n",
    "                                             workers=c.num_cores,\n",
    "#                                              workers=2,\n",
    "                                             optimize_interval=1,\n",
    "                                             iterations=c.LDA_iteration_threshold,\n",
    "                                             random_seed=1000,\n",
    "                                             prefix='{}tmp/{}/'.format(c.directory['save'], num_topics)\n",
    "                                            )\n",
    "#     util.print_asynch('coherence calculation: topics = {}'.format(num_topics))\n",
    "#     coherencemodel = CoherenceModel(model=model,\n",
    "#                                     texts=data_lemmatized, \n",
    "#                                     dictionary=id2word, \n",
    "#                                     coherence='c_v'\n",
    "#                                    )\n",
    "#     cv=coherencemodel.get_coherence()\n",
    "#     cv =0.4\n",
    "#     util.print_asynch('coherence calculation finished: topics = {}'.format(num_topics))    \n",
    "#     output='coherence for {} topics = {}'.format(num_topics, cv)\n",
    "#     util.print_asynch(output)\n",
    "\n",
    "#     lock_write.acquire()\n",
    "#     write_to_file(output)\n",
    "#     lock_write.release()\n",
    "    \n",
    "#     del model\n",
    "    util.print_asynch('Finished with model for topics {}'.format(num_topics))    \n",
    "    return dict(num_topics=num_topics, model=model)\n",
    "\n",
    "def para_coherence_df(df):\n",
    "    return df.apply(para_coherence)\n",
    "\n",
    "try:\n",
    "    os.remove(filename+'txt')\n",
    "except:\n",
    "    pass\n",
    "\n",
    "try:\n",
    "    os.makedirs(c.directory['save']+'tmp/')\n",
    "except OSError as e:\n",
    "    if e.errno != errno.EEXIST:\n",
    "        raise\n",
    "        \n",
    "experiments = pd.DataFrame(list(range(c.start, c.stop, c.step)), columns=['num_topics'])\n",
    "\n",
    "# c.init_parallel(False, c.num_cores)\n",
    "# experiments['coherenece'] = util.parallelize_df_dask(experiments['num_topics'], para_coherence, c)\n",
    "models = util.for_parallel(para_coherence, experiments['num_topics'], c.num_cores)\n",
    "# experiments['coherence'] = util.for_parallel(para_coherence, experiments['num_topics'], 3)\n",
    "#                                              max(1, c.num_cores//c.LDA_proportion))\n",
    "\n"
   ]
  },
  {
   "cell_type": "code",
   "execution_count": 7,
   "metadata": {
    "ExecuteTime": {
     "end_time": "2019-05-16T21:58:40.649253Z",
     "start_time": "2019-05-16T21:58:31.499855Z"
    },
    "code_folding": [
     0
    ],
    "papermill": {
     "duration": 3188.038329,
     "end_time": "2019-05-17T03:49:11.512363",
     "exception": false,
     "start_time": "2019-05-17T02:56:03.474034",
     "status": "completed"
    },
    "tags": []
   },
   "outputs": [
    {
     "name": "stdout",
     "output_type": "stream",
     "text": [
      "coherence for 50 topics = 0.6453445919397127\n"
     ]
    },
    {
     "name": "stdout",
     "output_type": "stream",
     "text": [
      "coherence for 52 topics = 0.6449074760706364\n"
     ]
    },
    {
     "name": "stdout",
     "output_type": "stream",
     "text": [
      "coherence for 54 topics = 0.6440520617954888\n"
     ]
    },
    {
     "name": "stdout",
     "output_type": "stream",
     "text": [
      "coherence for 56 topics = 0.6521276660292418\n"
     ]
    },
    {
     "name": "stdout",
     "output_type": "stream",
     "text": [
      "coherence for 58 topics = 0.6517049298543472\n"
     ]
    },
    {
     "name": "stdout",
     "output_type": "stream",
     "text": [
      "coherence for 60 topics = 0.6562226220324912\n"
     ]
    },
    {
     "name": "stdout",
     "output_type": "stream",
     "text": [
      "coherence for 62 topics = 0.6583944737583033\n"
     ]
    },
    {
     "name": "stdout",
     "output_type": "stream",
     "text": [
      "coherence for 64 topics = 0.6439682972447927\n"
     ]
    },
    {
     "name": "stdout",
     "output_type": "stream",
     "text": [
      "coherence for 66 topics = 0.6548980823208167\n"
     ]
    },
    {
     "name": "stdout",
     "output_type": "stream",
     "text": [
      "coherence for 68 topics = 0.6572287728559192\n"
     ]
    },
    {
     "name": "stdout",
     "output_type": "stream",
     "text": [
      "coherence for 70 topics = 0.6491684011272549\n"
     ]
    },
    {
     "name": "stdout",
     "output_type": "stream",
     "text": [
      "coherence for 72 topics = 0.6458399894590338\n"
     ]
    },
    {
     "name": "stdout",
     "output_type": "stream",
     "text": [
      "coherence for 74 topics = 0.6459645572948536\n"
     ]
    },
    {
     "name": "stdout",
     "output_type": "stream",
     "text": [
      "coherence for 76 topics = 0.6537890780243923\n"
     ]
    },
    {
     "name": "stdout",
     "output_type": "stream",
     "text": [
      "coherence for 78 topics = 0.6516552871009959\n"
     ]
    },
    {
     "name": "stdout",
     "output_type": "stream",
     "text": [
      "coherence for 80 topics = 0.6494053826273889\n"
     ]
    },
    {
     "name": "stdout",
     "output_type": "stream",
     "text": [
      "coherence for 82 topics = 0.6501259619253044\n"
     ]
    },
    {
     "name": "stdout",
     "output_type": "stream",
     "text": [
      "coherence for 84 topics = 0.6520113901927823\n"
     ]
    },
    {
     "name": "stdout",
     "output_type": "stream",
     "text": [
      "coherence for 86 topics = 0.6517640431304088\n"
     ]
    },
    {
     "name": "stdout",
     "output_type": "stream",
     "text": [
      "coherence for 88 topics = 0.650274529350849\n"
     ]
    },
    {
     "name": "stdout",
     "output_type": "stream",
     "text": [
      "coherence for 90 topics = 0.6542798398566555\n"
     ]
    },
    {
     "name": "stdout",
     "output_type": "stream",
     "text": [
      "coherence for 92 topics = 0.6530499717874096\n"
     ]
    },
    {
     "name": "stdout",
     "output_type": "stream",
     "text": [
      "coherence for 94 topics = 0.6462209924664465\n"
     ]
    },
    {
     "name": "stdout",
     "output_type": "stream",
     "text": [
      "coherence for 96 topics = 0.6540819015360726\n"
     ]
    },
    {
     "name": "stdout",
     "output_type": "stream",
     "text": [
      "coherence for 98 topics = 0.655975471326274\n"
     ]
    },
    {
     "name": "stdout",
     "output_type": "stream",
     "text": [
      "coherence for 100 topics = 0.6557497302413793\n"
     ]
    },
    {
     "data": {
      "text/html": [
       "<table border=\"1\" class=\"dataframe\">\n",
       "  <thead>\n",
       "    <tr style=\"text-align: right;\">\n",
       "      <th></th>\n",
       "      <th>coherence</th>\n",
       "      <th>num_topics</th>\n",
       "    </tr>\n",
       "  </thead>\n",
       "  <tbody>\n",
       "    <tr>\n",
       "      <th>0</th>\n",
       "      <td>0.645345</td>\n",
       "      <td>50</td>\n",
       "    </tr>\n",
       "    <tr>\n",
       "      <th>1</th>\n",
       "      <td>0.644907</td>\n",
       "      <td>52</td>\n",
       "    </tr>\n",
       "    <tr>\n",
       "      <th>2</th>\n",
       "      <td>0.644052</td>\n",
       "      <td>54</td>\n",
       "    </tr>\n",
       "    <tr>\n",
       "      <th>3</th>\n",
       "      <td>0.652128</td>\n",
       "      <td>56</td>\n",
       "    </tr>\n",
       "    <tr>\n",
       "      <th>4</th>\n",
       "      <td>0.651705</td>\n",
       "      <td>58</td>\n",
       "    </tr>\n",
       "    <tr>\n",
       "      <th>5</th>\n",
       "      <td>0.656223</td>\n",
       "      <td>60</td>\n",
       "    </tr>\n",
       "    <tr>\n",
       "      <th>6</th>\n",
       "      <td>0.658394</td>\n",
       "      <td>62</td>\n",
       "    </tr>\n",
       "    <tr>\n",
       "      <th>7</th>\n",
       "      <td>0.643968</td>\n",
       "      <td>64</td>\n",
       "    </tr>\n",
       "    <tr>\n",
       "      <th>8</th>\n",
       "      <td>0.654898</td>\n",
       "      <td>66</td>\n",
       "    </tr>\n",
       "    <tr>\n",
       "      <th>9</th>\n",
       "      <td>0.657229</td>\n",
       "      <td>68</td>\n",
       "    </tr>\n",
       "    <tr>\n",
       "      <th>10</th>\n",
       "      <td>0.649168</td>\n",
       "      <td>70</td>\n",
       "    </tr>\n",
       "    <tr>\n",
       "      <th>11</th>\n",
       "      <td>0.645840</td>\n",
       "      <td>72</td>\n",
       "    </tr>\n",
       "    <tr>\n",
       "      <th>12</th>\n",
       "      <td>0.645965</td>\n",
       "      <td>74</td>\n",
       "    </tr>\n",
       "    <tr>\n",
       "      <th>13</th>\n",
       "      <td>0.653789</td>\n",
       "      <td>76</td>\n",
       "    </tr>\n",
       "    <tr>\n",
       "      <th>14</th>\n",
       "      <td>0.651655</td>\n",
       "      <td>78</td>\n",
       "    </tr>\n",
       "    <tr>\n",
       "      <th>15</th>\n",
       "      <td>0.649405</td>\n",
       "      <td>80</td>\n",
       "    </tr>\n",
       "    <tr>\n",
       "      <th>16</th>\n",
       "      <td>0.650126</td>\n",
       "      <td>82</td>\n",
       "    </tr>\n",
       "    <tr>\n",
       "      <th>17</th>\n",
       "      <td>0.652011</td>\n",
       "      <td>84</td>\n",
       "    </tr>\n",
       "    <tr>\n",
       "      <th>18</th>\n",
       "      <td>0.651764</td>\n",
       "      <td>86</td>\n",
       "    </tr>\n",
       "    <tr>\n",
       "      <th>19</th>\n",
       "      <td>0.650275</td>\n",
       "      <td>88</td>\n",
       "    </tr>\n",
       "    <tr>\n",
       "      <th>20</th>\n",
       "      <td>0.654280</td>\n",
       "      <td>90</td>\n",
       "    </tr>\n",
       "    <tr>\n",
       "      <th>21</th>\n",
       "      <td>0.653050</td>\n",
       "      <td>92</td>\n",
       "    </tr>\n",
       "    <tr>\n",
       "      <th>22</th>\n",
       "      <td>0.646221</td>\n",
       "      <td>94</td>\n",
       "    </tr>\n",
       "    <tr>\n",
       "      <th>23</th>\n",
       "      <td>0.654082</td>\n",
       "      <td>96</td>\n",
       "    </tr>\n",
       "    <tr>\n",
       "      <th>24</th>\n",
       "      <td>0.655975</td>\n",
       "      <td>98</td>\n",
       "    </tr>\n",
       "    <tr>\n",
       "      <th>25</th>\n",
       "      <td>0.655750</td>\n",
       "      <td>100</td>\n",
       "    </tr>\n",
       "  </tbody>\n",
       "</table>"
      ],
      "text/plain": [
       "<IPython.core.display.HTML object>"
      ]
     },
     "metadata": {},
     "output_type": "display_data"
    }
   ],
   "source": [
    "### calculating coherence value for LDA models + saving ###\n",
    "\n",
    "\n",
    "cvs=[]\n",
    "for model in models:\n",
    "    coherencemodel = CoherenceModel(model=model['model'],\n",
    "                                    texts=data_lemmatized, \n",
    "                                    dictionary=id2word, \n",
    "                                    coherence='c_v',\n",
    "#                                     topn=10,\n",
    "                                    processes=c.num_cores\n",
    "                                   )\n",
    "    cv=coherencemodel.get_coherence()\n",
    "    num_topics=model['num_topics']\n",
    "#     util.print_asynch('coherence calculation finished: topics = {}'.format(num_topics))    \n",
    "    output='coherence for {} topics = {}'.format(num_topics, cv)\n",
    "    util.print_asynch(output)\n",
    "\n",
    "    lock_write.acquire()\n",
    "    write_to_file(output)\n",
    "    lock_write.release()\n",
    "    \n",
    "    del coherencemodel\n",
    "    gc.collect()\n",
    "    cvs.append(dict(num_topics=num_topics,coherence=cv))\n",
    "\n",
    "gc.collect()\n",
    "cvs_df=pd.DataFrame(cvs)\n",
    "cvs_df.to_csv(filename+'csv', encoding='utf-8', index=False)\n",
    "util.display_df(cvs_df)"
   ]
  },
  {
   "cell_type": "code",
   "execution_count": 8,
   "metadata": {
    "code_folding": [
     0
    ],
    "papermill": {
     "duration": 0.323096,
     "end_time": "2019-05-17T03:49:11.860954",
     "exception": false,
     "start_time": "2019-05-17T03:49:11.537858",
     "status": "completed"
    },
    "tags": []
   },
   "outputs": [
    {
     "data": {
      "image/png": "[encoded data removed]",
      "text/plain": [
       "<Figure size 432x288 with 1 Axes>"
      ]
     },
     "metadata": {
      "needs_background": "light"
     },
     "output_type": "display_data"
    }
   ],
   "source": [
    "### Ploting coherence values ###\n",
    "\n",
    "x = range(c.start, c.stop, c.step)\n",
    "plt.plot(x, cvs_df['coherence'])\n",
    "plt.xlabel(\"Num Topics\")\n",
    "plt.ylabel(\"coherence score\")\n",
    "plt.legend((\"coherence_values\"), loc='best')\n",
    "plt.savefig('{}{}_graph_0_coherence_{}_{}_{}_iter_{}.png'.format(c.directory['save'],\n",
    "                                                                 c.project_name,\n",
    "                                                                 c.start,\n",
    "                                                                 c.stop,\n",
    "                                                                 c.step,\n",
    "                                                                 c.LDA_iteration_threshold\n",
    "                                                                ),\n",
    "              bbox_inches='tight')\n",
    "plt.show()"
   ]
  },
  {
   "cell_type": "code",
   "execution_count": null,
   "metadata": {
    "papermill": {
     "duration": 0.026079,
     "end_time": "2019-05-17T03:49:11.913448",
     "exception": false,
     "start_time": "2019-05-17T03:49:11.887369",
     "status": "completed"
    },
    "tags": []
   },
   "outputs": [],
   "source": []
  }
 ],
 "metadata": {
  "kernelspec": {
   "display_name": "Python 3",
   "language": "python",
   "name": "python3"
  },
  "language_info": {
   "codemirror_mode": {
    "name": "ipython",
    "version": 3
   },
   "file_extension": ".py",
   "mimetype": "text/x-python",
   "name": "python",
   "nbconvert_exporter": "python",
   "pygments_lexer": "ipython3",
   "version": "3.7.3"
  },
  "papermill": {
   "duration": 20878.729332,
   "end_time": "2019-05-17T03:49:18.655329",
   "environment_variables": {},
   "exception": null,
   "input_path": "LDA_3_Param_Search.ipynb",
   "output_path": "/scratch/hkarbasi/LDA/Reddit/LDA_3_Param_Search_0_Reddit_NODE077.ipynb",
   "parameters": {
    "LDA_iteration_threshold": 1000,
    "config": "configs.config_Reddit",
    "mem": 670000,
    "num_cores": 27,
    "start": 50,
    "step": 2,
    "stop": 101
   },
   "start_time": "2019-05-16T22:01:19.925997",
   "version": "1.0.0"
  }
 },
 "nbformat": 4,
 "nbformat_minor": 2
}