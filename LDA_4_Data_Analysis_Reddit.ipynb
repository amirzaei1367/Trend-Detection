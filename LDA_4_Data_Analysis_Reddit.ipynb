{
 "cells": [
  {
   "cell_type": "code",
   "execution_count": 1,
   "metadata": {
    "papermill": {
     "duration": 0.013757,
     "end_time": "2019-05-17T15:15:51.609963",
     "exception": false,
     "start_time": "2019-05-17T15:15:51.596206",
     "status": "completed"
    },
    "tags": [
     "injected-parameters"
    ]
   },
   "outputs": [],
   "source": [
    "# Parameters\n",
    "num_cores = 27\n",
    "mem = 650000\n",
    "config = \"configs.config_Reddit\"\n"
   ]
  },
  {
   "cell_type": "code",
   "execution_count": 2,
   "metadata": {
    "ExecuteTime": {
     "end_time": "2019-05-16T02:45:10.240339Z",
     "start_time": "2019-05-16T02:45:10.235894Z"
    },
    "code_folding": [
     0
    ],
    "papermill": {
     "duration": 0.011925,
     "end_time": "2019-05-17T15:15:51.629092",
     "exception": false,
     "start_time": "2019-05-17T15:15:51.617167",
     "status": "completed"
    },
    "tags": []
   },
   "outputs": [],
   "source": [
    "#!/usr/bin/env python\n",
    "# coding: utf-8\n",
    "\n",
    "if 'config' not in locals():\n",
    "    config = 'configs.config_SE_test_local'\n",
    "#     config = 'configs.config_Reddit_test_local'"
   ]
  },
  {
   "cell_type": "code",
   "execution_count": 3,
   "metadata": {
    "ExecuteTime": {
     "end_time": "2019-05-16T02:45:13.802394Z",
     "start_time": "2019-05-16T02:45:10.244491Z"
    },
    "code_folding": [
     0
    ],
    "papermill": {
     "duration": 7.221124,
     "end_time": "2019-05-17T15:15:58.857204",
     "exception": false,
     "start_time": "2019-05-17T15:15:51.636080",
     "status": "completed"
    },
    "tags": []
   },
   "outputs": [
    {
     "name": "stdout",
     "output_type": "stream",
     "text": [
      "config file is set to configs.config_Reddit\n",
      "num_cores is set to 27\n",
      "mem is set to 650000\n"
     ]
    }
   ],
   "source": [
    "### initialization ###\n",
    "\n",
    "from _imports import *\n",
    "# from _utils import *\n",
    "\n",
    "print('config file is set to {}'.format(config))\n",
    "\n",
    "util=importlib.import_module('_utils')\n",
    "importlib.reload(util)\n",
    "\n",
    "c=importlib.import_module(config)\n",
    "importlib.reload(c)\n",
    "\n",
    "get_ipython().run_line_magic('matplotlib', 'inline')\n",
    "\n",
    "# param_setup(sys.argv[1:], c)\n",
    "util.param_setup_ipython(globals(), c)"
   ]
  },
  {
   "cell_type": "code",
   "execution_count": 4,
   "metadata": {
    "ExecuteTime": {
     "end_time": "2019-05-16T02:45:14.352841Z",
     "start_time": "2019-05-16T02:45:13.806823Z"
    },
    "code_folding": [],
    "papermill": {
     "duration": 0.242668,
     "end_time": "2019-05-17T15:15:59.107620",
     "exception": false,
     "start_time": "2019-05-17T15:15:58.864952",
     "status": "completed"
    },
    "tags": []
   },
   "outputs": [
    {
     "data": {
      "text/html": [
       "<table border=\"1\" class=\"dataframe\">\n",
       "  <thead>\n",
       "    <tr style=\"text-align: right;\">\n",
       "      <th></th>\n",
       "      <th>coherence</th>\n",
       "      <th>num_topics</th>\n",
       "    </tr>\n",
       "  </thead>\n",
       "  <tbody>\n",
       "    <tr>\n",
       "      <th>29</th>\n",
       "      <td>0.658394</td>\n",
       "      <td>62</td>\n",
       "    </tr>\n",
       "    <tr>\n",
       "      <th>32</th>\n",
       "      <td>0.657229</td>\n",
       "      <td>68</td>\n",
       "    </tr>\n",
       "    <tr>\n",
       "      <th>28</th>\n",
       "      <td>0.656223</td>\n",
       "      <td>60</td>\n",
       "    </tr>\n",
       "    <tr>\n",
       "      <th>47</th>\n",
       "      <td>0.655975</td>\n",
       "      <td>98</td>\n",
       "    </tr>\n",
       "    <tr>\n",
       "      <th>48</th>\n",
       "      <td>0.655750</td>\n",
       "      <td>100</td>\n",
       "    </tr>\n",
       "  </tbody>\n",
       "</table>"
      ],
      "text/plain": [
       "<IPython.core.display.HTML object>"
      ]
     },
     "metadata": {},
     "output_type": "display_data"
    },
    {
     "data": {
      "image/png": "[encoded data removed]",
      "text/plain": [
       "<Figure size 432x288 with 1 Axes>"
      ]
     },
     "metadata": {
      "needs_background": "light"
     },
     "output_type": "display_data"
    }
   ],
   "source": [
    "### Plotting coherence values ###\n",
    "\n",
    "if c.hist_filenames is not None and len(c.hist_filenames) > 0:\n",
    "    data=pd.DataFrame()\n",
    "    try:\n",
    "        for filename in c.hist_filenames:\n",
    "            data = pd.concat([data,\n",
    "                              pd.read_csv(c.directory['save']+filename)\n",
    "                             ], \n",
    "                             axis=0,\n",
    "                             ignore_index=True\n",
    "                            )\n",
    "\n",
    "\n",
    "#         util.display_df(data)\n",
    "        if len(data) > 0 :\n",
    "            data=data.sort_values(['num_topics'])\n",
    "            util.display_df(data.sort_values(['coherence'], ascending=False).head(min(5, len(data))))\n",
    "            x = data['num_topics']\n",
    "            y = data['coherence']\n",
    "            plt.plot(x, y)\n",
    "            plt.xlabel(\"Num Topics\")\n",
    "            plt.ylabel(\"coherence score\")\n",
    "            plt.legend((\"coherence_values\"), loc='best')\n",
    "            plt.savefig('{}{}_graph_0_coherence_{}_{}_{}_iter_{}_all.png'.format(c.directory['save'],\n",
    "                                                                             c.project_name,\n",
    "                                                                             c.start,\n",
    "                                                                             c.stop,\n",
    "                                                                             c.step,\n",
    "                                                                             c.LDA_iteration_threshold\n",
    "                                                                            ),\n",
    "                          bbox_inches='tight')\n",
    "            plt.show()\n",
    "    except Exception as e:\n",
    "        print('There was an issue with CSV files!\\n{}'.format(e))\n",
    "else:\n",
    "    print('No hitogram files were found!')"
   ]
  },
  {
   "cell_type": "code",
   "execution_count": 5,
   "metadata": {
    "ExecuteTime": {
     "end_time": "2019-05-16T02:45:16.330573Z",
     "start_time": "2019-05-16T02:45:14.356015Z"
    },
    "code_folding": [],
    "papermill": {
     "duration": 38.722128,
     "end_time": "2019-05-17T15:16:37.838559",
     "exception": false,
     "start_time": "2019-05-17T15:15:59.116431",
     "status": "completed"
    },
    "tags": []
   },
   "outputs": [
    {
     "name": "stdout",
     "output_type": "stream",
     "text": [
      "(2225657, 8)\n"
     ]
    },
    {
     "data": {
      "text/html": [
       "<table border=\"1\" class=\"dataframe\">\n",
       "  <thead>\n",
       "    <tr style=\"text-align: right;\">\n",
       "      <th></th>\n",
       "      <th>id</th>\n",
       "      <th>date</th>\n",
       "      <th>category</th>\n",
       "      <th>all_text</th>\n",
       "      <th>group</th>\n",
       "      <th>txt_orig</th>\n",
       "      <th>txt_lemmatized</th>\n",
       "      <th>keywords</th>\n",
       "    </tr>\n",
       "  </thead>\n",
       "  <tbody>\n",
       "    <tr>\n",
       "      <th>0</th>\n",
       "      <td>2qzibe</td>\n",
       "      <td>2015-01-01 00:29:40</td>\n",
       "      <td>MachineLearning</td>\n",
       "      <td>Measuring human performance on standard image ...</td>\n",
       "      <td>submissions</td>\n",
       "      <td>Measuring human performance on standard image ...</td>\n",
       "      <td>measur, human, zzzltwolfivelonelzzz, standard,...</td>\n",
       "      <td>measur, human, perform, standard, imag classif...</td>\n",
       "    </tr>\n",
       "    <tr>\n",
       "      <th>1</th>\n",
       "      <td>2qzv35</td>\n",
       "      <td>2015-01-01 03:52:22</td>\n",
       "      <td>dataisbeautiful</td>\n",
       "      <td>European economy guide: Taking Europe’s pulse</td>\n",
       "      <td>submissions</td>\n",
       "      <td>European economy guide: Taking Europe’s pulse</td>\n",
       "      <td>european, economi, guid, take, europ, pul</td>\n",
       "      <td>european, economi, guid, take, europ, pul</td>\n",
       "    </tr>\n",
       "    <tr>\n",
       "      <th>2</th>\n",
       "      <td>2qzzaa</td>\n",
       "      <td>2015-01-01 05:23:25</td>\n",
       "      <td>dataisbeautiful</td>\n",
       "      <td>Popularity of visual forms in DataIsBeautiful ...</td>\n",
       "      <td>submissions</td>\n",
       "      <td>Popularity of visual forms in DataIsBeautiful ...</td>\n",
       "      <td>popular, zzzlthreelzerolfourlzzz, form, datais...</td>\n",
       "      <td>popular, visual, form, dataisbeauti, base, sam...</td>\n",
       "    </tr>\n",
       "    <tr>\n",
       "      <th>3</th>\n",
       "      <td>2r048c</td>\n",
       "      <td>2015-01-01 07:16:15</td>\n",
       "      <td>dataisbeautiful</td>\n",
       "      <td>JOE GROOMING - DAILY SHAMPOO ~ best shampoo fo...</td>\n",
       "      <td>submissions</td>\n",
       "      <td>JOE GROOMING - DAILY SHAMPOO ~ best shampoo fo...</td>\n",
       "      <td>joe, groom, daili, shampoo, good, shampoo, oil...</td>\n",
       "      <td>joe, groom, daili, shampoo, good, shampoo, oil...</td>\n",
       "    </tr>\n",
       "    <tr>\n",
       "      <th>4</th>\n",
       "      <td>2r0e7b</td>\n",
       "      <td>2015-01-01 10:25:46</td>\n",
       "      <td>dataisbeautiful</td>\n",
       "      <td>Los Angeles Traffic Accident Rate in Rainy vs ...</td>\n",
       "      <td>submissions</td>\n",
       "      <td>Los Angeles Traffic Accident Rate in Rainy vs ...</td>\n",
       "      <td>trafficaccid, rate, raini, dri, weather</td>\n",
       "      <td>trafficaccid, rate, raini, dri, weather</td>\n",
       "    </tr>\n",
       "  </tbody>\n",
       "</table>"
      ],
      "text/plain": [
       "<IPython.core.display.HTML object>"
      ]
     },
     "metadata": {},
     "output_type": "display_data"
    }
   ],
   "source": [
    "### loading decoded lemmatized file ###\n",
    "\n",
    "df_text_orig = pd.read_csv('{}{}_1_text_original.csv'.format(c.directory['save'], c.project_name))\n",
    "df_text = pd.read_csv('{}{}_4_text_lemmatized_decoded.csv'.format(c.directory['save'], c.project_name))\n",
    "pprint(df_text.shape)\n",
    "util.display_df(df_text.head())"
   ]
  },
  {
   "cell_type": "code",
   "execution_count": 6,
   "metadata": {
    "ExecuteTime": {
     "end_time": "2019-05-16T02:45:16.345640Z",
     "start_time": "2019-05-16T02:45:16.333642Z"
    },
    "code_folding": [
     0,
     2,
     16
    ],
    "papermill": {
     "duration": 0.019102,
     "end_time": "2019-05-17T15:16:37.880675",
     "exception": false,
     "start_time": "2019-05-17T15:16:37.861573",
     "status": "completed"
    },
    "tags": []
   },
   "outputs": [],
   "source": [
    "### Functions for calculating distribuions in datasets ###\n",
    "\n",
    "def distribution(df, category, df_type):\n",
    "    a= df[['id', category]]\n",
    "    g=a.groupby(category)\n",
    "    result = g.count()\n",
    "    result = pd.concat([pd.DataFrame(result), \n",
    "                        pd.Series(100 * result['id']/df.shape[0])\n",
    "                       ], \n",
    "                       axis=1)\n",
    "    result.columns=['counts', '%']\n",
    "    result.sort_values('%', ascending=False, inplace=True)\n",
    "    result.reset_index(inplace=True)\n",
    "    pprint('number of text for {} with {} = {}'.format(df_type, category, len(a)))\n",
    "    return result\n",
    "\n",
    "def calc_distribution(df, df_type):\n",
    "    df_result=distribution(df, 'group', df_type)\n",
    "\n",
    "    if 'category' in df.columns:\n",
    "        df_result=pd.concat([df_result, distribution(df, 'category', df_type)], \n",
    "                            ignore_index=True, \n",
    "                            axis=1)\n",
    "    df_result.to_csv('{}{}_6_{}_distribution.csv'.format(c.directory['save'],\n",
    "                                                         c.project_name, \n",
    "                                                         df_type\n",
    "                                                        ), \n",
    "                     encoding='utf-8', \n",
    "                     index=False\n",
    "                    )\n",
    "    return df_result"
   ]
  },
  {
   "cell_type": "code",
   "execution_count": 7,
   "metadata": {
    "ExecuteTime": {
     "end_time": "2019-05-16T02:45:16.381690Z",
     "start_time": "2019-05-16T02:45:16.348179Z"
    },
    "code_folding": [
     0
    ],
    "papermill": {
     "duration": 0.897636,
     "end_time": "2019-05-17T15:16:38.787259",
     "exception": false,
     "start_time": "2019-05-17T15:16:37.889623",
     "status": "completed"
    },
    "tags": []
   },
   "outputs": [
    {
     "name": "stdout",
     "output_type": "stream",
     "text": [
      "'number of text for original with group = 3559702'\n"
     ]
    },
    {
     "name": "stdout",
     "output_type": "stream",
     "text": [
      "'number of text for original with category = 3559702'\n"
     ]
    },
    {
     "data": {
      "text/html": [
       "<table border=\"1\" class=\"dataframe\">\n",
       "  <thead>\n",
       "    <tr style=\"text-align: right;\">\n",
       "      <th></th>\n",
       "      <th>0</th>\n",
       "      <th>1</th>\n",
       "      <th>2</th>\n",
       "      <th>3</th>\n",
       "      <th>4</th>\n",
       "      <th>5</th>\n",
       "    </tr>\n",
       "  </thead>\n",
       "  <tbody>\n",
       "    <tr>\n",
       "      <th>0</th>\n",
       "      <td>comments</td>\n",
       "      <td>3333568.0</td>\n",
       "      <td>93.64739</td>\n",
       "      <td>dataisbeautiful</td>\n",
       "      <td>2975912</td>\n",
       "      <td>83.600032</td>\n",
       "    </tr>\n",
       "    <tr>\n",
       "      <th>1</th>\n",
       "      <td>submissions</td>\n",
       "      <td>226134.0</td>\n",
       "      <td>6.35261</td>\n",
       "      <td>MachineLearning</td>\n",
       "      <td>307210</td>\n",
       "      <td>8.630217</td>\n",
       "    </tr>\n",
       "    <tr>\n",
       "      <th>2</th>\n",
       "      <td>NaN</td>\n",
       "      <td>NaN</td>\n",
       "      <td>NaN</td>\n",
       "      <td>datascience</td>\n",
       "      <td>154149</td>\n",
       "      <td>4.330391</td>\n",
       "    </tr>\n",
       "    <tr>\n",
       "      <th>3</th>\n",
       "      <td>NaN</td>\n",
       "      <td>NaN</td>\n",
       "      <td>NaN</td>\n",
       "      <td>learnmachinelearning</td>\n",
       "      <td>40642</td>\n",
       "      <td>1.141725</td>\n",
       "    </tr>\n",
       "    <tr>\n",
       "      <th>4</th>\n",
       "      <td>NaN</td>\n",
       "      <td>NaN</td>\n",
       "      <td>NaN</td>\n",
       "      <td>analytics</td>\n",
       "      <td>27794</td>\n",
       "      <td>0.780796</td>\n",
       "    </tr>\n",
       "    <tr>\n",
       "      <th>5</th>\n",
       "      <td>NaN</td>\n",
       "      <td>NaN</td>\n",
       "      <td>NaN</td>\n",
       "      <td>MLQuestions</td>\n",
       "      <td>20946</td>\n",
       "      <td>0.588420</td>\n",
       "    </tr>\n",
       "    <tr>\n",
       "      <th>6</th>\n",
       "      <td>NaN</td>\n",
       "      <td>NaN</td>\n",
       "      <td>NaN</td>\n",
       "      <td>bigdata</td>\n",
       "      <td>18435</td>\n",
       "      <td>0.517880</td>\n",
       "    </tr>\n",
       "    <tr>\n",
       "      <th>7</th>\n",
       "      <td>NaN</td>\n",
       "      <td>NaN</td>\n",
       "      <td>NaN</td>\n",
       "      <td>deeplearning</td>\n",
       "      <td>11262</td>\n",
       "      <td>0.316375</td>\n",
       "    </tr>\n",
       "    <tr>\n",
       "      <th>8</th>\n",
       "      <td>NaN</td>\n",
       "      <td>NaN</td>\n",
       "      <td>NaN</td>\n",
       "      <td>datamining</td>\n",
       "      <td>3352</td>\n",
       "      <td>0.094165</td>\n",
       "    </tr>\n",
       "  </tbody>\n",
       "</table>"
      ],
      "text/plain": [
       "<IPython.core.display.HTML object>"
      ]
     },
     "metadata": {},
     "output_type": "display_data"
    }
   ],
   "source": [
    "### Category distribution - original ###\n",
    "\n",
    "util.display_df(calc_distribution(df_text_orig, 'original'))"
   ]
  },
  {
   "cell_type": "code",
   "execution_count": 8,
   "metadata": {
    "ExecuteTime": {
     "end_time": "2019-05-16T02:45:16.423176Z",
     "start_time": "2019-05-16T02:45:16.384934Z"
    },
    "code_folding": [
     0
    ],
    "papermill": {
     "duration": 0.606557,
     "end_time": "2019-05-17T15:16:39.404881",
     "exception": false,
     "start_time": "2019-05-17T15:16:38.798324",
     "status": "completed"
    },
    "tags": []
   },
   "outputs": [
    {
     "name": "stdout",
     "output_type": "stream",
     "text": [
      "'number of text for preprocessed with group = 2225657'\n"
     ]
    },
    {
     "name": "stdout",
     "output_type": "stream",
     "text": [
      "'number of text for preprocessed with category = 2225657'\n"
     ]
    },
    {
     "data": {
      "text/html": [
       "<table border=\"1\" class=\"dataframe\">\n",
       "  <thead>\n",
       "    <tr style=\"text-align: right;\">\n",
       "      <th></th>\n",
       "      <th>0</th>\n",
       "      <th>1</th>\n",
       "      <th>2</th>\n",
       "      <th>3</th>\n",
       "      <th>4</th>\n",
       "      <th>5</th>\n",
       "    </tr>\n",
       "  </thead>\n",
       "  <tbody>\n",
       "    <tr>\n",
       "      <th>0</th>\n",
       "      <td>comments</td>\n",
       "      <td>2090068.0</td>\n",
       "      <td>93.907911</td>\n",
       "      <td>dataisbeautiful</td>\n",
       "      <td>1785152</td>\n",
       "      <td>80.207867</td>\n",
       "    </tr>\n",
       "    <tr>\n",
       "      <th>1</th>\n",
       "      <td>submissions</td>\n",
       "      <td>135589.0</td>\n",
       "      <td>6.092089</td>\n",
       "      <td>MachineLearning</td>\n",
       "      <td>227334</td>\n",
       "      <td>10.214242</td>\n",
       "    </tr>\n",
       "    <tr>\n",
       "      <th>2</th>\n",
       "      <td>NaN</td>\n",
       "      <td>NaN</td>\n",
       "      <td>NaN</td>\n",
       "      <td>datascience</td>\n",
       "      <td>118748</td>\n",
       "      <td>5.335413</td>\n",
       "    </tr>\n",
       "    <tr>\n",
       "      <th>3</th>\n",
       "      <td>NaN</td>\n",
       "      <td>NaN</td>\n",
       "      <td>NaN</td>\n",
       "      <td>learnmachinelearning</td>\n",
       "      <td>31833</td>\n",
       "      <td>1.430274</td>\n",
       "    </tr>\n",
       "    <tr>\n",
       "      <th>4</th>\n",
       "      <td>NaN</td>\n",
       "      <td>NaN</td>\n",
       "      <td>NaN</td>\n",
       "      <td>analytics</td>\n",
       "      <td>21877</td>\n",
       "      <td>0.982946</td>\n",
       "    </tr>\n",
       "    <tr>\n",
       "      <th>5</th>\n",
       "      <td>NaN</td>\n",
       "      <td>NaN</td>\n",
       "      <td>NaN</td>\n",
       "      <td>MLQuestions</td>\n",
       "      <td>17697</td>\n",
       "      <td>0.795136</td>\n",
       "    </tr>\n",
       "    <tr>\n",
       "      <th>6</th>\n",
       "      <td>NaN</td>\n",
       "      <td>NaN</td>\n",
       "      <td>NaN</td>\n",
       "      <td>bigdata</td>\n",
       "      <td>12084</td>\n",
       "      <td>0.542941</td>\n",
       "    </tr>\n",
       "    <tr>\n",
       "      <th>7</th>\n",
       "      <td>NaN</td>\n",
       "      <td>NaN</td>\n",
       "      <td>NaN</td>\n",
       "      <td>deeplearning</td>\n",
       "      <td>8268</td>\n",
       "      <td>0.371486</td>\n",
       "    </tr>\n",
       "    <tr>\n",
       "      <th>8</th>\n",
       "      <td>NaN</td>\n",
       "      <td>NaN</td>\n",
       "      <td>NaN</td>\n",
       "      <td>datamining</td>\n",
       "      <td>2664</td>\n",
       "      <td>0.119695</td>\n",
       "    </tr>\n",
       "  </tbody>\n",
       "</table>"
      ],
      "text/plain": [
       "<IPython.core.display.HTML object>"
      ]
     },
     "metadata": {},
     "output_type": "display_data"
    }
   ],
   "source": [
    "### Category distribution - preprocessed ###\n",
    "\n",
    "util.display_df(calc_distribution(df_text, 'preprocessed'))"
   ]
  },
  {
   "cell_type": "code",
   "execution_count": 9,
   "metadata": {
    "ExecuteTime": {
     "end_time": "2019-05-16T02:45:16.445547Z",
     "start_time": "2019-05-16T02:45:16.426053Z"
    },
    "code_folding": [
     0,
     2,
     5,
     8
    ],
    "papermill": {
     "duration": 0.027809,
     "end_time": "2019-05-17T15:16:39.444661",
     "exception": false,
     "start_time": "2019-05-17T15:16:39.416852",
     "status": "completed"
    },
    "tags": []
   },
   "outputs": [],
   "source": [
    "### functions for calculating doc length and plotting histogram ###\n",
    "\n",
    "def length_calc(text):\n",
    "    return len(str(text))\n",
    "\n",
    "def length_calc_df(df):\n",
    "    return df.apply(length_calc)\n",
    "\n",
    "def group_len_calc(df):\n",
    "\n",
    "    # c.init_parallel(True)\n",
    "    # doc_lens = df_text_orig['all_text'].parallel_apply(length_calc)\n",
    "    doc_lens=util.parallelize_df(df, length_calc_df, c)\n",
    "    # doc_lens = df_text_orig['all_text'].parallel_apply(len)\n",
    "    # doc_lens = [len(d) for d in df_text_orig.all_text]\n",
    "#     doc_lens = [len(d) for d in df]\n",
    "    return doc_lens\n",
    "    \n",
    "### Plot the histogram ###\n",
    "def plotting_hist(doc_lens, doc_size, title, color):\n",
    "    # doc_size = 1000\n",
    "    # x_offset = 750\n",
    "    # y_offset = 1000\n",
    "    # delta_y = 50\n",
    "#     doc_lens=group_len_calc(df)\n",
    "#     doc_size = int(round(np.quantile(doc_lens, q=0.97)))\n",
    "    bins = int(round(np.quantile(doc_lens, q=.99)))\n",
    "    hist = np.histogram(doc_lens, bins = bins)\n",
    "    x_offset = int(0.75 * doc_size)\n",
    "    y_offset = 0.75 * np.max(hist[0])\n",
    "#     delta_y = np.max(hist[0]) // 15\n",
    "    delta_y = y_offset // 13\n",
    "\n",
    "\n",
    "    plt.figure(figsize=(8, 4), dpi=100)\n",
    "#     plt.hist(doc_lens, bins = doc_size, color=color)\n",
    "    plt.hist(doc_lens, bins = bins, color=color)    \n",
    "    plt.text(x_offset, y_offset, \"Mean : \" + str(round(np.mean(doc_lens))))\n",
    "    plt.text(x_offset, y_offset - delta_y*1, \"Median : \" + str(round(np.median(doc_lens))))\n",
    "    plt.text(x_offset, y_offset - delta_y*2, \"Stdev : \" + str(round(np.std(doc_lens))))\n",
    "    plt.text(x_offset, y_offset - delta_y*3, \"1%ile : \" + str(round(np.quantile(doc_lens, q=0.01))))\n",
    "    plt.text(x_offset, y_offset - delta_y*4, \"99%ile : \" + str(round(np.quantile(doc_lens, q=0.99))))\n",
    "\n",
    "    plt.gca().set(xlim=(0, doc_size), ylabel='Number of Documents', xlabel='Word Count')\n",
    "    plt.tick_params(size=16)\n",
    "    plt.xticks(np.linspace(0, doc_size, 9))\n",
    "    plt.title('Distribution of Word Counts Per Document ({})'.format(title), fontdict=dict(size=14))\n",
    "    plt.savefig('{}{}_graph_1_hist_words_{}.png'.format(c.directory['save'], \n",
    "                                                        c.project_name,\n",
    "                                                        title\n",
    "                                                       ), \n",
    "                bbox_inches='tight')\n",
    "    pd.DataFrame(hist, index=['counts', 'bins']).T.to_csv('{}{}_7_histogram_{}.csv'.format(c.directory['save'],\n",
    "                                                                                           c.project_name,\n",
    "                                                                                           title\n",
    "                                                                                       ), \n",
    "                                                          encoding='utf-8', \n",
    "                                                          index=False\n",
    "                                                         )\n",
    "    return plt"
   ]
  },
  {
   "cell_type": "code",
   "execution_count": 10,
   "metadata": {
    "ExecuteTime": {
     "end_time": "2019-05-16T02:46:07.079874Z",
     "start_time": "2019-05-16T02:45:16.448167Z"
    },
    "code_folding": [
     0,
     5,
     12
    ],
    "papermill": {
     "duration": 45.520818,
     "end_time": "2019-05-17T15:17:24.977448",
     "exception": false,
     "start_time": "2019-05-17T15:16:39.456630",
     "status": "completed"
    },
    "tags": []
   },
   "outputs": [
    {
     "name": "stdout",
     "output_type": "stream",
     "text": [
      "parallel: 27 partitions with 27 cores for length_calc_df\n"
     ]
    },
    {
     "name": "stdout",
     "output_type": "stream",
     "text": [
      "parallel: 27 partitions with 27 cores for length_calc_df\n"
     ]
    },
    {
     "data": {
      "image/png": "[encoded data removed]",
      "text/plain": [
       "<Figure size 800x400 with 1 Axes>"
      ]
     },
     "metadata": {
      "needs_background": "light"
     },
     "output_type": "display_data"
    },
    {
     "name": "stdout",
     "output_type": "stream",
     "text": [
      "parallel: 27 partitions with 27 cores for length_calc_df\n"
     ]
    },
    {
     "data": {
      "image/png": "[encoded data removed]",
      "text/plain": [
       "<Figure size 800x400 with 1 Axes>"
      ]
     },
     "metadata": {
      "needs_background": "light"
     },
     "output_type": "display_data"
    },
    {
     "name": "stdout",
     "output_type": "stream",
     "text": [
      "parallel: 27 partitions with 27 cores for length_calc_df\n"
     ]
    },
    {
     "data": {
      "image/png": "[encoded data removed]",
      "text/plain": [
       "<Figure size 800x400 with 1 Axes>"
      ]
     },
     "metadata": {
      "needs_background": "light"
     },
     "output_type": "display_data"
    }
   ],
   "source": [
    "### Plotting histograms of subgroups and group ###\n",
    "\n",
    "doc_lens=group_len_calc(df_text_orig['all_text'])\n",
    "doc_size = int(round(np.quantile(doc_lens, q=0.99)))\n",
    "\n",
    "for index, key in enumerate(list(c.template['files'].keys())):\n",
    "    df=df_text_orig.loc[df_text_orig['group']==key, 'all_text']\n",
    "    doc_lens=group_len_calc(df)\n",
    "#     doc_size = int(round(np.quantile(doc_lens, q=0.99)))\n",
    "#     plotting_hist(group_len_calc(df), doc_size, key, '#56ae57').show()\n",
    "    plotting_hist(doc_lens, doc_size, key, list(mcolors.XKCD_COLORS.values())[index]).show()    \n",
    "\n",
    "if len(c.template['files'].keys()) > 1:\n",
    "    doc_lens=group_len_calc(df_text_orig['all_text'])\n",
    "    doc_size = int(round(np.quantile(doc_lens, q=0.99)))\n",
    "    plotting_hist(doc_lens, \n",
    "                  doc_size, \n",
    "                  'all', \n",
    "                  list(mcolors.XKCD_COLORS.values())[len(c.template['files'].keys())]\n",
    "                 ).show()"
   ]
  }
 ],
 "metadata": {
  "kernelspec": {
   "display_name": "Python 3",
   "language": "python",
   "name": "python3"
  },
  "language_info": {
   "codemirror_mode": {
    "name": "ipython",
    "version": 3
   },
   "file_extension": ".py",
   "mimetype": "text/x-python",
   "name": "python",
   "nbconvert_exporter": "python",
   "pygments_lexer": "ipython3",
   "version": "3.7.3"
  },
  "papermill": {
   "duration": 100.891755,
   "end_time": "2019-05-17T15:17:29.691787",
   "environment_variables": {},
   "exception": null,
   "input_path": "LDA_4_Data_Analysis.ipynb",
   "output_path": "/scratch/hkarbasi/LDA/Reddit/LDA_4_Data_Analysis_0_Reddit_NODE076.ipynb",
   "parameters": {
    "config": "configs.config_Reddit",
    "mem": 650000,
    "num_cores": 27
   },
   "start_time": "2019-05-17T15:15:48.800032",
   "version": "1.0.0"
  }
 },
 "nbformat": 4,
 "nbformat_minor": 2
}